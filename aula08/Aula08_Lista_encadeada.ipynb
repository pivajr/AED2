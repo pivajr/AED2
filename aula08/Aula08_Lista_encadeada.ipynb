{
 "cells": [
  {
   "cell_type": "markdown",
   "metadata": {},
   "source": [
    "![Algoritmos e Estrutura de Dados II - Prof Piva](AED2_banner.jpg)"
   ]
  },
  {
   "cell_type": "markdown",
   "metadata": {},
   "source": [
    "## Aula 8 - Listas Encadeadas"
   ]
  },
  {
   "cell_type": "markdown",
   "metadata": {},
   "source": [
    "#### Definindo a Classe Nó (Node)"
   ]
  },
  {
   "cell_type": "code",
   "execution_count": null,
   "metadata": {},
   "outputs": [],
   "source": [
    "class Node:\n",
    "    # Construtor\n",
    "    def __init__(self, init_data):\n",
    "        self.data = init_data\n",
    "        self.next = None # inicialmente não aponta para ninguém\n",
    "    \n",
    "    # Obtém o dado armazenado\n",
    "    def get_data(self):\n",
    "        return self.data\n",
    "    \n",
    "    # Retorna o próximo elemento (para que nó aponta)\n",
    "    def get_next(self):\n",
    "        return self.next\n",
    "\n",
    "    # Armazena uma nova informação (atualiza dados)\n",
    "    def set_data(self, new_data):\n",
    "        self.data = new_data\n",
    "\n",
    "    # Aponta o nó para outro nó\n",
    "    def set_next(self, new_next):\n",
    "        self.next = new_next"
   ]
  },
  {
   "cell_type": "code",
   "execution_count": null,
   "metadata": {},
   "outputs": [],
   "source": [
    "# Assim podemos criar um nó da seguinte forma:\n",
    "temp = Node(93)"
   ]
  },
  {
   "cell_type": "code",
   "execution_count": null,
   "metadata": {},
   "outputs": [],
   "source": [
    "# consultarmos o valor armazenado nesse nó com:\n",
    "temp.get_data()"
   ]
  },
  {
   "cell_type": "markdown",
   "metadata": {},
   "source": [
    "O nó criado acima ficaria da seguinte forma..."
   ]
  },
  {
   "cell_type": "markdown",
   "metadata": {},
   "source": [
    "![o no criado: temp](no.jpg)"
   ]
  },
  {
   "cell_type": "markdown",
   "metadata": {},
   "source": [
    "### Listas encadeadas não-ordenadas"
   ]
  },
  {
   "cell_type": "code",
   "execution_count": null,
   "metadata": {},
   "outputs": [],
   "source": [
    "# Implementa a classe UnorderedList\n",
    "# (Lista encadeada não ordenada)\n",
    "class UnorderedList:\n",
    "    # Construtor (aponta cabeça da lista para None)\n",
    "    def __init__(self):\n",
    "        self.head = None\n",
    "\n",
    "    # Verifica se lista está vazia\n",
    "    def is_empty(self):\n",
    "        return self.head == None\n",
    "    \n",
    "    # Adiciona elemento no início da lista\n",
    "    def add_head(self, item):\n",
    "        # Cria novo nó\n",
    "        temp = Node(item)\n",
    "        # Aponta novo nó para cabeça da lista\n",
    "        temp.set_next(self.head)\n",
    "        # Atualiza a cabeça da lista\n",
    "        self.head = temp\n",
    "    \n",
    "    # Adiciona elemento no final da lista\n",
    "    def add_tail(self, item):\n",
    "        # Cria novo nó\n",
    "        tail = Node(item)\n",
    "        # Usa referência temporária para percorer lista (inicio=cabeça)\n",
    "        temp = self.head\n",
    "        # Percorre a lista até o último elemento\n",
    "        while temp.next != None:\n",
    "            temp = temp.next\n",
    "        # Aponta tail (ultimo elemento) para novo nó\n",
    "        temp.set_next(tail)\n",
    "    \n",
    "    # Imprime elementos da lista\n",
    "    def print_list(self):\n",
    "        # Aponta referência para cabeça\n",
    "        temp = self.head\n",
    "        X = []\n",
    "        # Percorre lista adicionando elementos em X\n",
    "        while temp != None:\n",
    "            X.append(temp.data)\n",
    "            temp = temp.get_next()\n",
    "        return X\n",
    "    \n",
    "    # Calcula o número de elementos na lista\n",
    "    def size(self):\n",
    "        # Aponta para cabeça da lista\n",
    "        temp = self.head\n",
    "        count = 0\n",
    "        # Percorre lista contando elementos\n",
    "        while temp != None:\n",
    "            count = count + 1\n",
    "            temp = temp.get_next()\n",
    "        return count\n",
    "    \n",
    "    # Busca pelo elemento na lista\n",
    "    def search(self,item):\n",
    "        # Inicia na cabeça da lista\n",
    "        temp = self.head\n",
    "        found = False\n",
    "        # Percorre a lista até achar elemento u chegar no final\n",
    "        while temp != None and not found:\n",
    "            # Se achar atual nó contém elemento, found == True\n",
    "            if temp.get_data() == item:\n",
    "                found = True\n",
    "            else:\n",
    "                # Senão, aponta para o sucessor\n",
    "                temp = temp.get_next()\n",
    "        return found\n",
    "    \n",
    "    # Remove um nó da lista encadeada\n",
    "    def remove(self, item):\n",
    "        # Aponta a referência corrente para cabeça de L\n",
    "        current = self.head\n",
    "        # Aponta referência previous para None\n",
    "        previous = None\n",
    "        found = False\n",
    "        # Enquanto não encontrar o valor a ser removido\n",
    "        while not found:\n",
    "            # Se nó corrente armazena o item desejado, encontrou\n",
    "            if current.get_data() == item:\n",
    "                found = True\n",
    "            else:\n",
    "                # Se no corrente não é o que buscamos\n",
    "                # Atualiza o previous e o corrente\n",
    "                previous = current\n",
    "                current = current.get_next()\n",
    "        # Se nó a ser removido for o primeiro da lista\n",
    "        # Altera a cabeça da lista\n",
    "        if previous == None:\n",
    "            self.head = current.get_next()\n",
    "        else:\n",
    "            # Caso não seja primeiro nó, liga o previous com o próximo\n",
    "            previous.set_next(current.get_next())\n",
    "        # Desliga nó corrente\n",
    "        current.set_next(None)"
   ]
  },
  {
   "cell_type": "markdown",
   "metadata": {},
   "source": [
    "#### Testando a implementação"
   ]
  },
  {
   "cell_type": "code",
   "execution_count": null,
   "metadata": {},
   "outputs": [],
   "source": [
    "# Cria lista vazia\n",
    "L = UnorderedList()"
   ]
  },
  {
   "cell_type": "code",
   "execution_count": null,
   "metadata": {},
   "outputs": [],
   "source": [
    "print(L.is_empty())"
   ]
  },
  {
   "cell_type": "code",
   "execution_count": null,
   "metadata": {},
   "outputs": [],
   "source": [
    "# Insere no início\n",
    "L.add_head(1)"
   ]
  },
  {
   "cell_type": "code",
   "execution_count": null,
   "metadata": {},
   "outputs": [],
   "source": [
    "L.add_head(2)"
   ]
  },
  {
   "cell_type": "code",
   "execution_count": null,
   "metadata": {},
   "outputs": [],
   "source": [
    "L.add_head(3)"
   ]
  },
  {
   "cell_type": "code",
   "execution_count": null,
   "metadata": {},
   "outputs": [],
   "source": [
    "print(L.print_list())"
   ]
  },
  {
   "cell_type": "code",
   "execution_count": null,
   "metadata": {},
   "outputs": [],
   "source": [
    "print(L.size())"
   ]
  },
  {
   "cell_type": "code",
   "execution_count": null,
   "metadata": {},
   "outputs": [],
   "source": [
    "print(L.is_empty())"
   ]
  },
  {
   "cell_type": "code",
   "execution_count": null,
   "metadata": {},
   "outputs": [],
   "source": [
    "# Insere no final\n",
    "L.add_tail(4)"
   ]
  },
  {
   "cell_type": "code",
   "execution_count": null,
   "metadata": {},
   "outputs": [],
   "source": [
    "L.add_tail(5)"
   ]
  },
  {
   "cell_type": "code",
   "execution_count": null,
   "metadata": {},
   "outputs": [],
   "source": [
    "L.add_tail(6)"
   ]
  },
  {
   "cell_type": "code",
   "execution_count": null,
   "metadata": {},
   "outputs": [],
   "source": [
    "L.add_tail(12)"
   ]
  },
  {
   "cell_type": "code",
   "execution_count": null,
   "metadata": {},
   "outputs": [],
   "source": [
    "print(L.print_list())"
   ]
  },
  {
   "cell_type": "code",
   "execution_count": null,
   "metadata": {},
   "outputs": [],
   "source": [
    "print(L.size())"
   ]
  },
  {
   "cell_type": "code",
   "execution_count": null,
   "metadata": {},
   "outputs": [],
   "source": [
    "print(L.search(5))"
   ]
  },
  {
   "cell_type": "code",
   "execution_count": null,
   "metadata": {},
   "outputs": [],
   "source": [
    "print(L.search(29))"
   ]
  },
  {
   "cell_type": "code",
   "execution_count": null,
   "metadata": {},
   "outputs": [],
   "source": [
    "L.remove(5)"
   ]
  },
  {
   "cell_type": "code",
   "execution_count": null,
   "metadata": {},
   "outputs": [],
   "source": [
    "print(L.print_list())"
   ]
  },
  {
   "cell_type": "code",
   "execution_count": null,
   "metadata": {},
   "outputs": [],
   "source": [
    "print(L.size())"
   ]
  },
  {
   "cell_type": "markdown",
   "metadata": {},
   "source": [
    "### Listas Encadeadas Ordenadas"
   ]
  },
  {
   "cell_type": "code",
   "execution_count": null,
   "metadata": {},
   "outputs": [],
   "source": [
    "# Implementa a classe OrderedList\n",
    "# (Lista encadeada ordenada)\n",
    "\n",
    "class OrderedList:\n",
    "    # Construtor (aponta cabeça da lista para None)\n",
    "    def __init__(self):\n",
    "        self.head = None\n",
    "\n",
    "    # Verifica se lista está vazia\n",
    "    def is_empty(self):\n",
    "        return self.head == None\n",
    "    \n",
    "    # Adiciona elemento no início da lista\n",
    "    def add_head(self, item):\n",
    "        # Cria novo nó\n",
    "        temp = Node(item)\n",
    "        # Aponta novo nó para cabeça da lista\n",
    "        temp.set_next(self.head)\n",
    "        # Atualiza a cabeça da lista\n",
    "        self.head = temp\n",
    "    \n",
    "    # Adiciona elemento no final da lista\n",
    "    def add_tail(self, item):\n",
    "        # Cria novo nó\n",
    "        tail = Node(item)\n",
    "        # Usa referência temporária para percorer lista (inicio=cabeça)\n",
    "        temp = self.head\n",
    "        # Percorre a lista até o último elemento\n",
    "        while temp.next != None:\n",
    "            temp = temp.next\n",
    "        # Aponta tail (ultimo elemento) para novo nó\n",
    "        temp.set_next(tail)\n",
    "\n",
    "    # Adiciona elemento na posição correta da lista\n",
    "    def add(self, item):\n",
    "        # Inicia na cabeça da lista\n",
    "        current = self.head\n",
    "        previous = None\n",
    "        stop = False\n",
    "        # Enquanto não chegar no final e não parou\n",
    "        while current != None and not stop:\n",
    "            # Se valor do corrente for maior elemento desejado\n",
    "            # Parar, pois elemento não pertence a lista\n",
    "            if current.get_data() > item:\n",
    "                stop = True\n",
    "            else:\n",
    "                # Senão, move o prévio e o corrente para o próximo\n",
    "                previous = current\n",
    "                current = current.get_next()\n",
    "        # Cria novo nó\n",
    "        temp = Node(item)\n",
    "        # Se for primeiro elemento, prévio = None\n",
    "        if previous == None:\n",
    "            temp.set_next(self.head)\n",
    "            self.head = temp\n",
    "        else:\n",
    "            # Senão, estamnis no meio ou último\n",
    "            temp.set_next(current)\n",
    "            previous.set_next(temp)\n",
    "    \n",
    "    # Imprime elementos da lista\n",
    "    def print_list(self):\n",
    "        # Aponta referência para cabeça\n",
    "        temp = self.head\n",
    "        X = []\n",
    "        # Percorre lista adicionando elementos em X\n",
    "        while temp != None:\n",
    "            X.append(temp.data)\n",
    "            temp = temp.get_next()\n",
    "        return X\n",
    "    \n",
    "    # Calcula o número de elementos na lista\n",
    "    def size(self):\n",
    "        # Aponta para cabeça da lista\n",
    "        temp = self.head\n",
    "        count = 0\n",
    "        # Percorre lista contando elementos\n",
    "        while temp != None:\n",
    "            count = count + 1\n",
    "            temp = temp.get_next()\n",
    "        return count\n",
    "    \n",
    "    # Busca um elemento em uma lista ordenada ou não.\n",
    "    def search(self, item):\n",
    "        # Inicio da lista\n",
    "        current = self.head\n",
    "        found = False\n",
    "        stop = False\n",
    "        # Enquanto não atingir o final da lista e não encontrou e não parou\n",
    "        while current != None and not found and not stop:\n",
    "            # Se nó atual é o elemento, encontrou\n",
    "            if current.get_data() == item:\n",
    "                found = True\n",
    "            else:\n",
    "                # Senão, se elemento atual é maior que valor buscado, pare\n",
    "                if current.get_data() > item:\n",
    "                    stop = True\n",
    "                else:\n",
    "                    # Caso contrário, vai para o próximo\n",
    "                    current = current.get_next()\n",
    "        return found\n",
    "    \n",
    "    # Remove um nó da lista encadeada\n",
    "    def remove(self, item):\n",
    "        # Aponta a referência corrente para cabeça de L\n",
    "        current = self.head\n",
    "        # Aponta referência previous para None\n",
    "        previous = None\n",
    "        found = False\n",
    "        # Enquanto não encontrar o valor a ser removido\n",
    "        while not found:\n",
    "            # Se nó corrente armazena o item desejado, encontrou\n",
    "            if current.get_data() == item:\n",
    "                found = True\n",
    "            else:\n",
    "                # Se no corrente não é o que buscamos\n",
    "                # Atualiza o previous e o corrente\n",
    "                previous = current\n",
    "                current = current.get_next()\n",
    "        # Se nó a ser removido for o primeiro da lista\n",
    "        # Altera a cabeça da lista\n",
    "        if previous == None:\n",
    "            self.head = current.get_next()\n",
    "        else:\n",
    "            # Caso não seja primeiro nó, liga o previous com o próximo\n",
    "            previous.set_next(current.get_next())\n",
    "        # Desliga nó corrente\n",
    "        current.set_next(None)"
   ]
  },
  {
   "cell_type": "markdown",
   "metadata": {},
   "source": [
    "#### Testando a classe OrderedList()"
   ]
  },
  {
   "cell_type": "code",
   "execution_count": null,
   "metadata": {},
   "outputs": [],
   "source": [
    "# Cria lista vazia\n",
    "L = OrderedList()"
   ]
  },
  {
   "cell_type": "code",
   "execution_count": null,
   "metadata": {},
   "outputs": [],
   "source": [
    "print(L.is_empty())"
   ]
  },
  {
   "cell_type": "code",
   "execution_count": null,
   "metadata": {},
   "outputs": [],
   "source": [
    "# Insere elementos\n",
    "L.add(1)\n",
    "L.add(4)\n",
    "L.add(3)\n",
    "L.add(12)\n",
    "L.add(5)\n",
    "L.add(8)"
   ]
  },
  {
   "cell_type": "code",
   "execution_count": null,
   "metadata": {},
   "outputs": [],
   "source": [
    "print(L.print_list())"
   ]
  },
  {
   "cell_type": "code",
   "execution_count": null,
   "metadata": {},
   "outputs": [],
   "source": [
    "print(L.size())"
   ]
  },
  {
   "cell_type": "code",
   "execution_count": null,
   "metadata": {},
   "outputs": [],
   "source": [
    "print(L.is_empty())"
   ]
  },
  {
   "cell_type": "code",
   "execution_count": null,
   "metadata": {},
   "outputs": [],
   "source": [
    "print(L.search(5))"
   ]
  },
  {
   "cell_type": "code",
   "execution_count": null,
   "metadata": {},
   "outputs": [],
   "source": [
    "print(L.search(29))"
   ]
  },
  {
   "cell_type": "code",
   "execution_count": null,
   "metadata": {},
   "outputs": [],
   "source": [
    "L.remove(5)"
   ]
  },
  {
   "cell_type": "code",
   "execution_count": null,
   "metadata": {},
   "outputs": [],
   "source": [
    "print(L.print_list())"
   ]
  },
  {
   "cell_type": "code",
   "execution_count": null,
   "metadata": {},
   "outputs": [],
   "source": [
    "print(L.size())"
   ]
  },
  {
   "cell_type": "markdown",
   "metadata": {},
   "source": [
    "### Listas Duplamente Ordenadas"
   ]
  },
  {
   "cell_type": "code",
   "execution_count": null,
   "metadata": {},
   "outputs": [],
   "source": [
    "class Node:\n",
    "    # Construtor\n",
    "    def __init__(self, init_data, prev, next):\n",
    "        self.data = init_data\n",
    "        self.prev = prev # inicialmente não aponta para ninguém\n",
    "        self.next = next\n",
    "        \n",
    "    # Obtém o dado armazenado\n",
    "    def get_data(self):\n",
    "        return self.data\n",
    "    \n",
    "    # Atualiza dado armazenado\n",
    "    def set_data(self, new_data):\n",
    "        self.data = new_data"
   ]
  },
  {
   "cell_type": "code",
   "execution_count": null,
   "metadata": {},
   "outputs": [],
   "source": [
    "# Implementa a classe UnorderedList (Lista encadeada não ordenada)\n",
    "class DoubleList:\n",
    "    # Construtor (aponta cabeça da lista para None)\n",
    "    def __init__(self):\n",
    "        # Cria nós iniciais e finais\n",
    "        self.header = Node(None, None, None)\n",
    "        self.trailer = Node(None, None, None)\n",
    "        # trailer é no final\n",
    "        self.header.next = self.trailer\n",
    "        # header é no início\n",
    "        self.trailer.prev = self.header\n",
    "        self.size = 0\n",
    "\n",
    "    # Verifica se lista está vazia\n",
    "    def is_empty(self):\n",
    "        return self.size == 0\n",
    "    \n",
    "    # Retorna o número de elementos na lista (função len)\n",
    "    def __len__(self):\n",
    "        return self.size\n",
    "    \n",
    "    # Insere novo nó entre dois nós existentes\n",
    "    def insert_between(self, item, predecessor, successor):\n",
    "        newest = Node(item, predecessor, successor)\n",
    "        predecessor.next = newest\n",
    "        successor.prev = newest\n",
    "        newest.prev = predecessor\n",
    "        newest.next = successor\n",
    "        self.size += 1\n",
    "        return newest\n",
    "    \n",
    "    # Remove um nó intermediário da lista\n",
    "    # Header e trailer nunca podem ser removidos!\n",
    "    def delete_node(self, node):\n",
    "        predecessor = node.prev\n",
    "        successor = node.next\n",
    "        predecessor.next = successor\n",
    "        successor.prev = predecessor\n",
    "        self.size -= 1\n",
    "        # Armazena o elemento removido\n",
    "        element = node.data\n",
    "        node.prev = node.next = node.element = None\n",
    "        return element\n",
    "    \n",
    "    # Insere elemento no início\n",
    "    def insert_first(self, data):\n",
    "        # nó deve entrar entre header e header.next\n",
    "        self.insert_between(data, self.header, self.header.next)\n",
    "\n",
    "    # Insere elemento no final\n",
    "    def insert_last(self, data):\n",
    "        # nó deve entrar entre trailer.prev e trailer\n",
    "        self.insert_between(data, self.trailer.prev, self.trailer)\n",
    "\n",
    "    # Remove elemento no início\n",
    "    def delete_first(self):\n",
    "        if self.is_empty():\n",
    "            raise Empty('Lista está vazia!')\n",
    "        return self.delete_node(self.header.next)\n",
    "    \n",
    "    # Remove elemento no final\n",
    "    def delete_last(self):\n",
    "        if self.is_empty():\n",
    "            raise Empty('Lista está vazia!')\n",
    "        return self.delete_node(self.trailer.prev)\n",
    "\n",
    "    # Imprime elementos da lista\n",
    "    def print_list(self):\n",
    "        # Aponta referência para cabeça\n",
    "        temp = self.header.next\n",
    "        X = []\n",
    "        # Percorre lista adicionando elementos em X\n",
    "        while temp.next != None:\n",
    "            X.append(temp.data)\n",
    "            temp = temp.next\n",
    "        return X"
   ]
  },
  {
   "cell_type": "code",
   "execution_count": null,
   "metadata": {},
   "outputs": [],
   "source": [
    "# Cria lista vazia\n",
    "L = DoubleList()"
   ]
  },
  {
   "cell_type": "code",
   "execution_count": null,
   "metadata": {},
   "outputs": [],
   "source": [
    "print(L.is_empty())"
   ]
  },
  {
   "cell_type": "code",
   "execution_count": null,
   "metadata": {},
   "outputs": [],
   "source": [
    "# Insere no início\n",
    "L.insert_first(1)\n",
    "L.insert_first(2)\n",
    "L.insert_first(3)"
   ]
  },
  {
   "cell_type": "code",
   "execution_count": null,
   "metadata": {},
   "outputs": [],
   "source": [
    "print(L.print_list())"
   ]
  },
  {
   "cell_type": "code",
   "execution_count": null,
   "metadata": {},
   "outputs": [],
   "source": [
    "print(len(L))"
   ]
  },
  {
   "cell_type": "code",
   "execution_count": null,
   "metadata": {},
   "outputs": [],
   "source": [
    "print(L.is_empty())"
   ]
  },
  {
   "cell_type": "code",
   "execution_count": null,
   "metadata": {},
   "outputs": [],
   "source": [
    "# Insere no final\n",
    "L.insert_last(4)\n",
    "L.insert_last(5)\n",
    "L.insert_last(6)"
   ]
  },
  {
   "cell_type": "code",
   "execution_count": null,
   "metadata": {},
   "outputs": [],
   "source": [
    "print(L.print_list())"
   ]
  },
  {
   "cell_type": "code",
   "execution_count": null,
   "metadata": {},
   "outputs": [],
   "source": [
    "print(len(L))"
   ]
  },
  {
   "cell_type": "code",
   "execution_count": null,
   "metadata": {},
   "outputs": [],
   "source": [
    "L.delete_first()"
   ]
  },
  {
   "cell_type": "code",
   "execution_count": null,
   "metadata": {},
   "outputs": [],
   "source": [
    "print(L.print_list())"
   ]
  },
  {
   "cell_type": "code",
   "execution_count": null,
   "metadata": {},
   "outputs": [],
   "source": [
    "print(len(L))"
   ]
  },
  {
   "cell_type": "code",
   "execution_count": null,
   "metadata": {},
   "outputs": [],
   "source": [
    "L.delete_last()"
   ]
  },
  {
   "cell_type": "code",
   "execution_count": null,
   "metadata": {},
   "outputs": [],
   "source": [
    "print(L.print_list())"
   ]
  },
  {
   "cell_type": "code",
   "execution_count": null,
   "metadata": {},
   "outputs": [],
   "source": [
    "print(len(L))"
   ]
  },
  {
   "cell_type": "markdown",
   "metadata": {},
   "source": [
    "### Exercícios"
   ]
  },
  {
   "cell_type": "markdown",
   "metadata": {},
   "source": [
    "#### Exercício 1: Gerenciamento de Tarefas\n",
    "Implemente uma lista encadeada para gerenciar uma lista de tarefas. Cada tarefa possui um nome e uma prioridade. O usuário deve ser capaz de:\n",
    "\n",
    "- Adicionar uma tarefa ao final da lista.\n",
    "- Remover a tarefa de maior prioridade (menor número representa maior prioridade).\n",
    "- Exibir todas as tarefas em ordem."
   ]
  },
  {
   "cell_type": "code",
   "execution_count": null,
   "metadata": {},
   "outputs": [],
   "source": [
    "# Definindo a classe Node\n",
    "class Node:\n",
    "    def __init__(self, data, prioridade):\n",
    "        self.data = data\n",
    "        self.prioridade = prioridade\n",
    "        self.next = None"
   ]
  },
  {
   "cell_type": "code",
   "execution_count": null,
   "metadata": {},
   "outputs": [],
   "source": [
    "# Definindo a lista encadeada\n",
    "class ListaTarefas:\n",
    "    def __init__(self):\n",
    "        self.head = None\n",
    "\n",
    "    def add_tarefa(self, data, prioridade):\n",
    "        new_node = Node(data, prioridade)\n",
    "        if self.head is None:\n",
    "            self.head = new_node\n",
    "        else:\n",
    "            current = self.head\n",
    "            while current.next:\n",
    "                current = current.next\n",
    "            current.next = new_node\n",
    "\n",
    "    def remove_maior_prioridade(self):\n",
    "        if self.head is None:\n",
    "            print(\"Nenhuma tarefa.\")\n",
    "            return\n",
    "        current = self.head\n",
    "        maior_prioridade = current\n",
    "        prev = None\n",
    "        while current.next:\n",
    "            if current.next.prioridade < maior_prioridade.prioridade:\n",
    "                maior_prioridade = current.next\n",
    "                prev = current\n",
    "            current = current.next\n",
    "\n",
    "        if prev is None:\n",
    "            self.head = self.head.next\n",
    "        else:\n",
    "            prev.next = maior_prioridade.next\n",
    "\n",
    "    def exibir_tarefas(self):\n",
    "        current = self.head\n",
    "        while current:\n",
    "            print(f\"Tarefa: {current.data}, Prioridade: {current.prioridade}\")\n",
    "            current = current.next"
   ]
  },
  {
   "cell_type": "code",
   "execution_count": null,
   "metadata": {},
   "outputs": [],
   "source": [
    "# Testando\n",
    "lista = ListaTarefas()\n",
    "lista.add_tarefa(\"Estudar\", 2)\n",
    "lista.add_tarefa(\"Fazer compras\", 1)\n",
    "lista.add_tarefa(\"Lavar roupa\", 3)\n",
    "\n",
    "lista.exibir_tarefas()\n",
    "print(\"\\nRemovendo tarefa de maior prioridade...\")\n",
    "lista.remove_maior_prioridade()\n",
    "lista.exibir_tarefas()"
   ]
  },
  {
   "cell_type": "markdown",
   "metadata": {},
   "source": [
    "#### Exercício 2: Histórico de Navegação\n",
    "Implemente uma lista encadeada que simula o histórico de navegação de um navegador. A lista deve permitir:\n",
    "\n",
    "- Adicionar uma nova página ao histórico.\n",
    "- Exibir o histórico completo.\n",
    "- Voltar uma página no histórico (remover o último elemento)."
   ]
  },
  {
   "cell_type": "code",
   "execution_count": null,
   "metadata": {},
   "outputs": [],
   "source": [
    "# Definindo a classe Node\n",
    "class Node:\n",
    "    def __init__(self, data):\n",
    "        self.data = data\n",
    "        self.next = None"
   ]
  },
  {
   "cell_type": "code",
   "execution_count": null,
   "metadata": {},
   "outputs": [],
   "source": [
    "# Definindo a lista encadeada\n",
    "class HistoricoNavegacao:\n",
    "    def __init__(self):\n",
    "        self.head = None\n",
    "\n",
    "    def add_pagina(self, pagina):\n",
    "        new_node = Node(pagina)\n",
    "        if self.head is None:\n",
    "            self.head = new_node\n",
    "        else:\n",
    "            current = self.head\n",
    "            while current.next:\n",
    "                current = current.next\n",
    "            current.next = new_node\n",
    "\n",
    "    def voltar_pagina(self):\n",
    "        if self.head is None:\n",
    "            print(\"Nenhuma página para voltar.\")\n",
    "            return\n",
    "        if self.head.next is None:\n",
    "            self.head = None\n",
    "        else:\n",
    "            current = self.head\n",
    "            while current.next.next:\n",
    "                current = current.next\n",
    "            current.next = None\n",
    "\n",
    "    def exibir_historico(self):\n",
    "        current = self.head\n",
    "        while current:\n",
    "            print(f\"Página: {current.data}\")\n",
    "            current = current.next"
   ]
  },
  {
   "cell_type": "code",
   "execution_count": null,
   "metadata": {},
   "outputs": [],
   "source": [
    "# Testando\n",
    "historico = HistoricoNavegacao()\n",
    "historico.add_pagina(\"Google\")\n",
    "historico.add_pagina(\"StackOverflow\")\n",
    "historico.add_pagina(\"GitHub\")\n",
    "\n",
    "historico.exibir_historico()\n",
    "print(\"\\nVoltando uma página...\")\n",
    "historico.voltar_pagina()\n",
    "historico.exibir_historico()"
   ]
  },
  {
   "cell_type": "markdown",
   "metadata": {},
   "source": [
    "#### Exercício 3: Lista de Espera em um Consultório\n",
    "Implemente uma lista encadeada para gerenciar uma lista de espera em um consultório médico. O sistema deve permitir:\n",
    "\n",
    "- Adicionar um paciente ao final da lista de espera.\n",
    "- Chamar o próximo paciente (remover o primeiro da lista).\n",
    "- Exibir a lista de espera."
   ]
  },
  {
   "cell_type": "code",
   "execution_count": null,
   "metadata": {},
   "outputs": [],
   "source": [
    "# Definindo a classe Node\n",
    "class Node:\n",
    "    def __init__(self, nome):\n",
    "        self.nome = nome\n",
    "        self.next = None"
   ]
  },
  {
   "cell_type": "code",
   "execution_count": null,
   "metadata": {},
   "outputs": [],
   "source": [
    "# Definindo a lista encadeada\n",
    "class ListaEspera:\n",
    "    def __init__(self):\n",
    "        self.head = None\n",
    "\n",
    "    def adicionar_paciente(self, nome):\n",
    "        new_node = Node(nome)\n",
    "        if self.head is None:\n",
    "            self.head = new_node\n",
    "        else:\n",
    "            current = self.head\n",
    "            while current.next:\n",
    "                current = current.next\n",
    "            current.next = new_node\n",
    "\n",
    "    def chamar_paciente(self):\n",
    "        if self.head is None:\n",
    "            print(\"Nenhum paciente na lista de espera.\")\n",
    "            return\n",
    "        paciente = self.head.nome\n",
    "        self.head = self.head.next\n",
    "        print(f\"Chamando o paciente: {paciente}\")\n",
    "\n",
    "    def exibir_lista_espera(self):\n",
    "        current = self.head\n",
    "        if current is None:\n",
    "            print(\"Nenhum paciente na lista de espera.\")\n",
    "        else:\n",
    "            while current:\n",
    "                print(f\"Paciente: {current.nome}\")\n",
    "                current = current.next"
   ]
  },
  {
   "cell_type": "code",
   "execution_count": null,
   "metadata": {},
   "outputs": [],
   "source": [
    "# Testando\n",
    "espera = ListaEspera()\n",
    "espera.adicionar_paciente(\"João\")\n",
    "espera.adicionar_paciente(\"Maria\")\n",
    "espera.adicionar_paciente(\"Carlos\")\n",
    "\n",
    "espera.exibir_lista_espera()\n",
    "print(\"\\nChamando o próximo paciente...\")\n",
    "espera.chamar_paciente()\n",
    "espera.exibir_lista_espera()"
   ]
  },
  {
   "cell_type": "markdown",
   "metadata": {},
   "source": [
    "## Fim da Aula 8"
   ]
  }
 ],
 "metadata": {
  "colab": {
   "provenance": []
  },
  "kernelspec": {
   "display_name": "Python 3 (ipykernel)",
   "language": "python",
   "name": "python3"
  },
  "language_info": {
   "codemirror_mode": {
    "name": "ipython",
    "version": 3
   },
   "file_extension": ".py",
   "mimetype": "text/x-python",
   "name": "python",
   "nbconvert_exporter": "python",
   "pygments_lexer": "ipython3",
   "version": "3.11.9"
  }
 },
 "nbformat": 4,
 "nbformat_minor": 4
}
