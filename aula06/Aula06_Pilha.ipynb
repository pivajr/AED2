{
 "cells": [
  {
   "cell_type": "markdown",
   "metadata": {},
   "source": [
    "![Algoritmos e Estrutura de Dados II - Prof Piva](AED2_banner.jpg)"
   ]
  },
  {
   "cell_type": "markdown",
   "metadata": {
    "id": "3L3hMZxPloS9"
   },
   "source": [
    "## Aula 6 - Pilhas"
   ]
  },
  {
   "cell_type": "markdown",
   "metadata": {},
   "source": [
    "### Primeira Implementação"
   ]
  },
  {
   "cell_type": "code",
   "execution_count": 1,
   "metadata": {},
   "outputs": [],
   "source": [
    "# Implementacao da classe Pilha\n",
    "class Stack:\n",
    "    # Inicia com uma pilha vazia\n",
    "    def __init__(self):\n",
    "        self.itens = []\n",
    "    \n",
    "    # Verifica se pilha esta vazia\n",
    "    def is_empty(self):\n",
    "        return self.itens == []\n",
    "    \n",
    "    # Adiciona elemento no topo (topo e o final da lista)\n",
    "    def push(self, item):\n",
    "        self.itens.append(item)\n",
    "        print(f\"PUSH {item}\")\n",
    "\n",
    "    # Remove elemento do topo (final da lista)\n",
    "    def pop(self):\n",
    "        print(\"POP\")\n",
    "        return self.itens.pop()\n",
    "    \n",
    "    # Obtem o elemento do topo (mas nao remove)\n",
    "    def peek(self):\n",
    "    # Em Python, indice -1 retorna ultimo elemento (topo)\n",
    "        return self.itens[-1]\n",
    "    \n",
    "    # Retorna o numero de elementos da pilha\n",
    "    def size(self):\n",
    "        return len(self.itens)\n",
    "    \n",
    "    # Imprime pilha na tela\n",
    "    def print_stack(self):\n",
    "        print(self.itens)"
   ]
  },
  {
   "cell_type": "code",
   "execution_count": 2,
   "metadata": {},
   "outputs": [],
   "source": [
    "# TESTANDO\n",
    "S = Stack()"
   ]
  },
  {
   "cell_type": "code",
   "execution_count": 3,
   "metadata": {},
   "outputs": [
    {
     "name": "stdout",
     "output_type": "stream",
     "text": [
      "[]\n"
     ]
    }
   ],
   "source": [
    "S.print_stack()"
   ]
  },
  {
   "cell_type": "code",
   "execution_count": 4,
   "metadata": {},
   "outputs": [
    {
     "name": "stdout",
     "output_type": "stream",
     "text": [
      "PUSH 1\n"
     ]
    }
   ],
   "source": [
    "S.push(1)"
   ]
  },
  {
   "cell_type": "code",
   "execution_count": 5,
   "metadata": {},
   "outputs": [
    {
     "name": "stdout",
     "output_type": "stream",
     "text": [
      "PUSH 2\n"
     ]
    }
   ],
   "source": [
    "S.push(2)"
   ]
  },
  {
   "cell_type": "code",
   "execution_count": 6,
   "metadata": {},
   "outputs": [
    {
     "name": "stdout",
     "output_type": "stream",
     "text": [
      "PUSH 3\n"
     ]
    }
   ],
   "source": [
    "S.push(3)"
   ]
  },
  {
   "cell_type": "code",
   "execution_count": 7,
   "metadata": {},
   "outputs": [
    {
     "name": "stdout",
     "output_type": "stream",
     "text": [
      "[1, 2, 3]\n"
     ]
    }
   ],
   "source": [
    "S.print_stack()"
   ]
  },
  {
   "cell_type": "code",
   "execution_count": 8,
   "metadata": {},
   "outputs": [
    {
     "name": "stdout",
     "output_type": "stream",
     "text": [
      "POP\n"
     ]
    },
    {
     "data": {
      "text/plain": [
       "3"
      ]
     },
     "execution_count": 8,
     "metadata": {},
     "output_type": "execute_result"
    }
   ],
   "source": [
    "S.pop()"
   ]
  },
  {
   "cell_type": "code",
   "execution_count": 9,
   "metadata": {},
   "outputs": [
    {
     "name": "stdout",
     "output_type": "stream",
     "text": [
      "POP\n"
     ]
    },
    {
     "data": {
      "text/plain": [
       "2"
      ]
     },
     "execution_count": 9,
     "metadata": {},
     "output_type": "execute_result"
    }
   ],
   "source": [
    "S.pop()"
   ]
  },
  {
   "cell_type": "code",
   "execution_count": 10,
   "metadata": {},
   "outputs": [
    {
     "name": "stdout",
     "output_type": "stream",
     "text": [
      "[1]\n"
     ]
    }
   ],
   "source": [
    "S.print_stack()"
   ]
  },
  {
   "cell_type": "code",
   "execution_count": 11,
   "metadata": {},
   "outputs": [
    {
     "name": "stdout",
     "output_type": "stream",
     "text": [
      "PUSH 7\n"
     ]
    }
   ],
   "source": [
    "S.push(7)"
   ]
  },
  {
   "cell_type": "code",
   "execution_count": 12,
   "metadata": {},
   "outputs": [
    {
     "name": "stdout",
     "output_type": "stream",
     "text": [
      "PUSH 8\n"
     ]
    }
   ],
   "source": [
    "S.push(8)"
   ]
  },
  {
   "cell_type": "code",
   "execution_count": 13,
   "metadata": {},
   "outputs": [
    {
     "name": "stdout",
     "output_type": "stream",
     "text": [
      "PUSH 9\n"
     ]
    }
   ],
   "source": [
    "S.push(9)"
   ]
  },
  {
   "cell_type": "code",
   "execution_count": 14,
   "metadata": {},
   "outputs": [
    {
     "name": "stdout",
     "output_type": "stream",
     "text": [
      "[1, 7, 8, 9]\n"
     ]
    }
   ],
   "source": [
    "S.print_stack()"
   ]
  },
  {
   "cell_type": "code",
   "execution_count": 15,
   "metadata": {},
   "outputs": [
    {
     "name": "stdout",
     "output_type": "stream",
     "text": [
      "False\n"
     ]
    }
   ],
   "source": [
    "print(S.is_empty())"
   ]
  },
  {
   "cell_type": "markdown",
   "metadata": {},
   "source": [
    "### Segunda Implementação"
   ]
  },
  {
   "cell_type": "code",
   "execution_count": 17,
   "metadata": {
    "id": "7R1oTn1dqV1l"
   },
   "outputs": [],
   "source": [
    "import numpy as np"
   ]
  },
  {
   "cell_type": "code",
   "execution_count": 50,
   "metadata": {
    "id": "uTsNap9FqYXN"
   },
   "outputs": [],
   "source": [
    "class Pilha:\n",
    "    def __init__(self, capacidade):\n",
    "        self.__capacidade = capacidade\n",
    "        self.__topo = -1\n",
    "        self.__valores = np.zeros(self.__capacidade, dtype=int)\n",
    "\n",
    "    def __pilha_cheia(self):\n",
    "        if self.__topo == self.__capacidade - 1:\n",
    "            return True\n",
    "        else:\n",
    "            return False\n",
    "    \n",
    "    def __pilha_vazia(self):\n",
    "        if self.__topo == -1:\n",
    "            return True\n",
    "        else:\n",
    "            return False\n",
    "    \n",
    "    def empilhar(self, valor):\n",
    "        if self.__pilha_cheia():\n",
    "            print('A pilha está cheia')\n",
    "        else:\n",
    "            self.__topo += 1\n",
    "            self.__valores[self.__topo] = valor\n",
    "    \n",
    "    def desempilhar(self):\n",
    "        if self.__pilha_vazia():\n",
    "            print('A pilha está vazia')\n",
    "        else:\n",
    "            self.__valores[self.__topo] = 0\n",
    "            self.__topo -= 1\n",
    "    \n",
    "    def ver_topo(self):\n",
    "        if self.__topo != -1:\n",
    "            return self.__valores[self.__topo]\n",
    "        else:\n",
    "            return -1\n",
    "    \n",
    "    # Imprime pilha na tela\n",
    "    def imprime_pilha(self):\n",
    "        print(self.__valores)"
   ]
  },
  {
   "cell_type": "code",
   "execution_count": 51,
   "metadata": {
    "id": "QtWvabeOq-0U"
   },
   "outputs": [],
   "source": [
    "pilha = Pilha(5)"
   ]
  },
  {
   "cell_type": "code",
   "execution_count": 52,
   "metadata": {},
   "outputs": [
    {
     "name": "stdout",
     "output_type": "stream",
     "text": [
      "[0 0 0 0 0]\n"
     ]
    }
   ],
   "source": [
    "pilha.imprime_pilha()"
   ]
  },
  {
   "cell_type": "code",
   "execution_count": 53,
   "metadata": {
    "colab": {
     "base_uri": "https://localhost:8080/",
     "height": 55
    },
    "id": "MNlDMfOHrCRL",
    "outputId": "7ab89260-93e2-4f48-8931-6d9738c1e19a"
   },
   "outputs": [
    {
     "data": {
      "text/plain": [
       "-1"
      ]
     },
     "execution_count": 53,
     "metadata": {},
     "output_type": "execute_result"
    }
   ],
   "source": [
    "pilha.ver_topo()"
   ]
  },
  {
   "cell_type": "code",
   "execution_count": 54,
   "metadata": {
    "colab": {
     "base_uri": "https://localhost:8080/",
     "height": 55
    },
    "id": "LPneWEkaspzr",
    "outputId": "382175e0-1c18-4517-8aaa-a64f4a2f5297"
   },
   "outputs": [
    {
     "data": {
      "text/plain": [
       "1"
      ]
     },
     "execution_count": 54,
     "metadata": {},
     "output_type": "execute_result"
    }
   ],
   "source": [
    "pilha.empilhar(1)\n",
    "pilha.ver_topo()"
   ]
  },
  {
   "cell_type": "code",
   "execution_count": 55,
   "metadata": {
    "id": "DESk3CzKs3Jr"
   },
   "outputs": [],
   "source": [
    "pilha.empilhar(1)\n",
    "pilha.empilhar(2)\n",
    "pilha.empilhar(3)\n",
    "pilha.empilhar(4)"
   ]
  },
  {
   "cell_type": "code",
   "execution_count": 56,
   "metadata": {},
   "outputs": [
    {
     "name": "stdout",
     "output_type": "stream",
     "text": [
      "[1 1 2 3 4]\n"
     ]
    }
   ],
   "source": [
    "pilha.imprime_pilha()"
   ]
  },
  {
   "cell_type": "code",
   "execution_count": 57,
   "metadata": {
    "colab": {
     "base_uri": "https://localhost:8080/",
     "height": 55
    },
    "id": "ggPHGUVqs6oi",
    "outputId": "fb8b8854-d995-49c5-c71d-11001cf569cd"
   },
   "outputs": [
    {
     "name": "stdout",
     "output_type": "stream",
     "text": [
      "A pilha está cheia\n"
     ]
    }
   ],
   "source": [
    "pilha.empilhar(6)"
   ]
  },
  {
   "cell_type": "code",
   "execution_count": 58,
   "metadata": {
    "colab": {
     "base_uri": "https://localhost:8080/",
     "height": 55
    },
    "id": "RhoPtGMOs_XH",
    "outputId": "c858ad80-9fef-4506-ff7f-6ff211dfa2c1"
   },
   "outputs": [
    {
     "data": {
      "text/plain": [
       "4"
      ]
     },
     "execution_count": 58,
     "metadata": {},
     "output_type": "execute_result"
    }
   ],
   "source": [
    "pilha.ver_topo()"
   ]
  },
  {
   "cell_type": "code",
   "execution_count": 59,
   "metadata": {
    "id": "5HWGcf7BtE8G"
   },
   "outputs": [],
   "source": [
    "pilha.desempilhar()"
   ]
  },
  {
   "cell_type": "code",
   "execution_count": 60,
   "metadata": {
    "colab": {
     "base_uri": "https://localhost:8080/",
     "height": 55
    },
    "id": "wfmWii0UtHPG",
    "outputId": "3a1a9ca0-0a67-4764-9c93-a1db47951afb"
   },
   "outputs": [
    {
     "data": {
      "text/plain": [
       "3"
      ]
     },
     "execution_count": 60,
     "metadata": {},
     "output_type": "execute_result"
    }
   ],
   "source": [
    "pilha.ver_topo()"
   ]
  },
  {
   "cell_type": "code",
   "execution_count": 61,
   "metadata": {
    "id": "2UKSXChKtMbj"
   },
   "outputs": [],
   "source": [
    "pilha.desempilhar()\n",
    "pilha.desempilhar()\n",
    "pilha.desempilhar()"
   ]
  },
  {
   "cell_type": "code",
   "execution_count": 62,
   "metadata": {
    "colab": {
     "base_uri": "https://localhost:8080/",
     "height": 55
    },
    "id": "Vmi31QQUtTJO",
    "outputId": "7af8c276-9f04-4d31-937d-575e24205995"
   },
   "outputs": [
    {
     "data": {
      "text/plain": [
       "1"
      ]
     },
     "execution_count": 62,
     "metadata": {},
     "output_type": "execute_result"
    }
   ],
   "source": [
    "pilha.ver_topo()"
   ]
  },
  {
   "cell_type": "code",
   "execution_count": 63,
   "metadata": {},
   "outputs": [
    {
     "name": "stdout",
     "output_type": "stream",
     "text": [
      "[1 0 0 0 0]\n"
     ]
    }
   ],
   "source": [
    "pilha.imprime_pilha()"
   ]
  },
  {
   "cell_type": "code",
   "execution_count": 64,
   "metadata": {
    "colab": {
     "base_uri": "https://localhost:8080/",
     "height": 55
    },
    "id": "fTia1ivdtei2",
    "outputId": "b1306403-9418-4a41-ecd2-388c8722d4b0"
   },
   "outputs": [],
   "source": [
    "pilha.desempilhar()"
   ]
  },
  {
   "cell_type": "code",
   "execution_count": 65,
   "metadata": {},
   "outputs": [
    {
     "name": "stdout",
     "output_type": "stream",
     "text": [
      "[0 0 0 0 0]\n"
     ]
    }
   ],
   "source": [
    "pilha.imprime_pilha()"
   ]
  },
  {
   "cell_type": "code",
   "execution_count": 66,
   "metadata": {},
   "outputs": [
    {
     "name": "stdout",
     "output_type": "stream",
     "text": [
      "A pilha está vazia\n"
     ]
    }
   ],
   "source": [
    "pilha.desempilhar()"
   ]
  },
  {
   "cell_type": "markdown",
   "metadata": {},
   "source": [
    "# Vamos à Prática!\n",
    "#### Exercício 1:"
   ]
  },
  {
   "cell_type": "markdown",
   "metadata": {},
   "source": [
    "Utilização de pilhas para conversão de números inteiros em decimal para binário (método da divisão sucessiva por 2)."
   ]
  },
  {
   "cell_type": "markdown",
   "metadata": {},
   "source": [
    "**Utilização do classe Stack..**"
   ]
  },
  {
   "cell_type": "code",
   "execution_count": 2,
   "metadata": {},
   "outputs": [],
   "source": [
    "# Função que converte um número decimal para binário\n",
    "def decimal_binario(numero):\n",
    " s = Stack()\n",
    " while numero > 0:\n",
    "     resto = numero % 2\n",
    "     s.push(resto)\n",
    "     numero = numero // 2\n",
    " binario = ''\n",
    " while not s.is_empty():\n",
    "     binario = binario + str(s.pop())\n",
    " return binario"
   ]
  },
  {
   "cell_type": "markdown",
   "metadata": {},
   "source": [
    "### Testando!\n",
    "233 --> binário"
   ]
  },
  {
   "cell_type": "code",
   "execution_count": 6,
   "metadata": {},
   "outputs": [
    {
     "name": "stdout",
     "output_type": "stream",
     "text": [
      "Entre com um número inteiro:  233\n"
     ]
    },
    {
     "name": "stdout",
     "output_type": "stream",
     "text": [
      "PUSH 1\n",
      "PUSH 0\n",
      "PUSH 0\n",
      "PUSH 1\n",
      "PUSH 0\n",
      "PUSH 1\n",
      "PUSH 1\n",
      "PUSH 1\n",
      "POP\n",
      "POP\n",
      "POP\n",
      "POP\n",
      "POP\n",
      "POP\n",
      "POP\n",
      "POP\n",
      "O valor 233 em binário é: 11101001\n"
     ]
    }
   ],
   "source": [
    "# TESTANDO\n",
    "n = int(input('Entre com um número inteiro: '))\n",
    "print(f\"O valor {n} em binário é: {decimal_binario(n)}\") "
   ]
  },
  {
   "cell_type": "markdown",
   "metadata": {},
   "source": [
    "#### Exercício 2: Sistema de Desfazer e Refazer em um Editor de Texto\n",
    "Implemente um sistema simples de \"desfazer\" e \"refazer\" operações em um editor de texto utilizando duas pilhas. Cada operação feita no texto (como adicionar ou remover caracteres) pode ser \"desfeita\" e, posteriormente, \"refeita\". Utilize duas pilhas: uma para armazenar as operações realizadas e outra para armazenar as operações desfeitas.\n",
    "\n",
    "Descritivo do Problema:\n",
    "- O sistema deve permitir realizar uma operação (inserir um caractere).\n",
    "- Deve ser possível desfazer a última operação (usando uma pilha de desfazer).\n",
    "- Após o desfazer, deve ser possível refazer a operação (usando uma pilha de refazer).\n",
    "- Exibir o estado atual do texto."
   ]
  },
  {
   "cell_type": "code",
   "execution_count": null,
   "metadata": {},
   "outputs": [],
   "source": [
    "# Redefinindo a classe Stack (Pilha) \n",
    "# No método pop() foi adicionado uma checagem para garantir que o método não tente remover um item se a pilha estiver vazia\n",
    "# No método peek() foi adicionado uma verificação para garantir que não cause erro de índice quando a pilha estiver vazia.\n",
    "# Tanto nos métodos push() e pop() ocorria uma impressão (print) isso foi retirado para otimizar o processo.\n",
    "# O atributo self.itens foi alterado para self.items (apenas estilo)\n",
    "# Essa mesma classe erá utilizada neste exercício (2) e no próximo (3) E TAMBÉM NO EXERCÍCIO EXTRA\n",
    "\n",
    "class Stack:\n",
    "    def __init__(self):\n",
    "        self.items = []\n",
    "\n",
    "    def is_empty(self):\n",
    "        return self.items == []\n",
    "\n",
    "    def push(self, item):\n",
    "        self.items.append(item)\n",
    "\n",
    "    def pop(self):\n",
    "        if not self.is_empty():\n",
    "            return self.items.pop()\n",
    "\n",
    "    def peek(self):\n",
    "        return self.items[-1] if not self.is_empty() else None\n",
    "\n",
    "    def size(self):\n",
    "        return len(self.items)"
   ]
  },
  {
   "cell_type": "code",
   "execution_count": null,
   "metadata": {},
   "outputs": [],
   "source": [
    "# Sistema de Desfazer e Refazer\n",
    "class EditorTexto:\n",
    "    def __init__(self):\n",
    "        self.texto = []\n",
    "        self.desfazer_pilha = Stack()  # Pilha de desfazer\n",
    "        self.refazer_pilha = Stack()   # Pilha de refazer\n",
    "\n",
    "    def inserir_caractere(self, caractere):\n",
    "        self.texto.append(caractere)\n",
    "        self.desfazer_pilha.push(caractere)\n",
    "        self.refazer_pilha = Stack()  # Limpa a pilha de refazer\n",
    "        print(f\"Inserido: {caractere}\")\n",
    "        self.exibir_texto()\n",
    "\n",
    "    def desfazer(self):\n",
    "        if not self.desfazer_pilha.is_empty():\n",
    "            ultimo_caractere = self.desfazer_pilha.pop()\n",
    "            self.texto.pop()\n",
    "            self.refazer_pilha.push(ultimo_caractere)\n",
    "            print(f\"Desfeito: {ultimo_caractere}\")\n",
    "        else:\n",
    "            print(\"Nada para desfazer.\")\n",
    "        self.exibir_texto()\n",
    "\n",
    "    def refazer(self):\n",
    "        if not self.refazer_pilha.is_empty():\n",
    "            caractere_refazer = self.refazer_pilha.pop()\n",
    "            self.texto.append(caractere_refazer)\n",
    "            self.desfazer_pilha.push(caractere_refazer)\n",
    "            print(f\"Refeito: {caractere_refazer}\")\n",
    "        else:\n",
    "            print(\"Nada para refazer.\")\n",
    "        self.exibir_texto()\n",
    "\n",
    "    def exibir_texto(self):\n",
    "        print(\"Texto atual:\", ''.join(self.texto))"
   ]
  },
  {
   "cell_type": "code",
   "execution_count": null,
   "metadata": {},
   "outputs": [],
   "source": [
    "# Testando o sistema\n",
    "editor = EditorTexto()\n",
    "editor.inserir_caractere('A')\n",
    "editor.inserir_caractere('B')\n",
    "editor.inserir_caractere('C')\n",
    "editor.desfazer()\n",
    "editor.refazer()\n",
    "editor.desfazer()\n",
    "editor.desfazer()\n",
    "editor.refazer()"
   ]
  },
  {
   "cell_type": "markdown",
   "metadata": {},
   "source": [
    "#### Exercício 3: Controle de Desempenho de Pilotos de Corrida\n",
    "Implemente um sistema de controle de desempenho de pilotos em uma corrida de karts, utilizando uma pilha. A cada volta, o sistema registra o tempo do piloto (em segundos) e permite desfazer o último tempo registrado (caso um erro de cronometragem tenha ocorrido). No final, o sistema exibe o tempo total acumulado das voltas.\n",
    "\n",
    "Descritivo do Problema:\n",
    "- O sistema deve permitir adicionar o tempo de uma volta à pilha.\n",
    "- Deve ser possível desfazer o último tempo registrado.\n",
    "- No final, exibir o tempo total acumulado das voltas registradas."
   ]
  },
  {
   "cell_type": "code",
   "execution_count": null,
   "metadata": {},
   "outputs": [],
   "source": [
    "# Definindo a classe Stack (Pilha)\n",
    "class Stack:\n",
    "    def __init__(self):\n",
    "        self.items = []\n",
    "\n",
    "    def is_empty(self):\n",
    "        return self.items == []\n",
    "\n",
    "    def push(self, item):\n",
    "        self.items.append(item)\n",
    "\n",
    "    def pop(self):\n",
    "        if not self.is_empty():\n",
    "            return self.items.pop()\n",
    "\n",
    "    def size(self):\n",
    "        return len(self.items)\n",
    "\n",
    "    def total_time(self):\n",
    "        return sum(self.items)"
   ]
  },
  {
   "cell_type": "code",
   "execution_count": null,
   "metadata": {},
   "outputs": [],
   "source": [
    "# Sistema de Controle de Voltas\n",
    "class ControleCorrida:\n",
    "    def __init__(self):\n",
    "        self.voltas = Stack()\n",
    "\n",
    "    def registrar_volta(self, tempo):\n",
    "        self.voltas.push(tempo)\n",
    "        print(f\"Volta registrada: {tempo} segundos\")\n",
    "        self.exibir_tempo_total()\n",
    "\n",
    "    def desfazer_volta(self):\n",
    "        if not self.voltas.is_empty():\n",
    "            tempo_removido = self.voltas.pop()\n",
    "            print(f\"Tempo desfeito: {tempo_removido} segundos\")\n",
    "        else:\n",
    "            print(\"Nenhuma volta para desfazer.\")\n",
    "        self.exibir_tempo_total()\n",
    "\n",
    "    def exibir_tempo_total(self):\n",
    "        tempo_total = self.voltas.total_time()\n",
    "        print(f\"Tempo total acumulado: {tempo_total} segundos\")"
   ]
  },
  {
   "cell_type": "code",
   "execution_count": null,
   "metadata": {},
   "outputs": [],
   "source": [
    "# Testando o sistema\n",
    "corrida = ControleCorrida()\n",
    "corrida.registrar_volta(58)\n",
    "corrida.registrar_volta(62)\n",
    "corrida.registrar_volta(60)\n",
    "corrida.desfazer_volta()\n",
    "corrida.registrar_volta(61)"
   ]
  },
  {
   "cell_type": "markdown",
   "metadata": {},
   "source": [
    "#### Exercício EXTRA: Verificação de Expressões Matemáticas ((EXPLICADO EM AULA))\n",
    "Implemente um verificador de expressões matemáticas que utiliza uma pilha para validar se os parênteses, colchetes e chaves estão corretamente balanceados. A função deve percorrer a expressão e usar uma pilha para verificar se cada abertura tem um fechamento correspondente.\n",
    "\n",
    "Descritivo do Problema:\n",
    "- O sistema deve receber uma expressão matemática que contenha parênteses (), colchetes [] e chaves {}.\n",
    "- Deve verificar se os símbolos de abertura e fechamento estão balanceados.\n",
    "- Retornar \"Válida\" se a expressão estiver balanceada e \"Inválida\" caso contrário."
   ]
  },
  {
   "cell_type": "code",
   "execution_count": null,
   "metadata": {},
   "outputs": [],
   "source": [
    "# Definindo a classe Stack (Pilha)\n",
    "class Stack:\n",
    "    def __init__(self):\n",
    "        self.items = []\n",
    "\n",
    "    def is_empty(self):\n",
    "        return self.items == []\n",
    "\n",
    "    def push(self, item):\n",
    "        self.items.append(item)\n",
    "\n",
    "    def pop(self):\n",
    "        if not self.is_empty():\n",
    "            return self.items.pop()\n",
    "\n",
    "    def peek(self):\n",
    "        return self.items[-1] if not self.is_empty() else None"
   ]
  },
  {
   "cell_type": "code",
   "execution_count": null,
   "metadata": {},
   "outputs": [],
   "source": [
    "# Função para verificar se os parênteses estão balanceados\n",
    "def verificar_expressao(expressao):\n",
    "    pilha = Stack()\n",
    "    pares = {'(': ')', '[': ']', '{': '}'}\n",
    "\n",
    "    for char in expressao:\n",
    "        if char in pares.keys():  # Se for um símbolo de abertura\n",
    "            pilha.push(char)\n",
    "        elif char in pares.values():  # Se for um símbolo de fechamento\n",
    "            if pilha.is_empty() or pares[pilha.pop()] != char:\n",
    "                return \"Inválida\"\n",
    "    \n",
    "    return \"Válida\" if pilha.is_empty() else \"Inválida\""
   ]
  },
  {
   "cell_type": "code",
   "execution_count": null,
   "metadata": {},
   "outputs": [],
   "source": [
    "# Testando a função\n",
    "expressao1 = \"{[()]}\"\n",
    "expressao2 = \"{[(])}\"\n",
    "expressao3 = \"{[()]}\"\n",
    "\n",
    "print(f\"Expressão 1: {verificar_expressao(expressao1)}\")  # Válida\n",
    "print(f\"Expressão 2: {verificar_expressao(expressao2)}\")  # Inválida\n",
    "print(f\"Expressão 3: {verificar_expressao(expressao3)}\")  # Válida"
   ]
  },
  {
   "cell_type": "markdown",
   "metadata": {},
   "source": [
    "### Fim Aula 6"
   ]
  }
 ],
 "metadata": {
  "colab": {
   "provenance": []
  },
  "kernelspec": {
   "display_name": "Python 3 (ipykernel)",
   "language": "python",
   "name": "python3"
  },
  "language_info": {
   "codemirror_mode": {
    "name": "ipython",
    "version": 3
   },
   "file_extension": ".py",
   "mimetype": "text/x-python",
   "name": "python",
   "nbconvert_exporter": "python",
   "pygments_lexer": "ipython3",
   "version": "3.11.7"
  }
 },
 "nbformat": 4,
 "nbformat_minor": 4
}
