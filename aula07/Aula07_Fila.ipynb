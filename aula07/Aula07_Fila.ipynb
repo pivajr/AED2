{
 "cells": [
  {
   "cell_type": "markdown",
   "metadata": {},
   "source": [
    "![Algoritmos e Estrutura de Dados II - Prof Piva](AED2_banner.jpg)"
   ]
  },
  {
   "cell_type": "markdown",
   "metadata": {
    "id": "3L3hMZxPloS9"
   },
   "source": [
    "## Aula 7 - Filas"
   ]
  },
  {
   "cell_type": "markdown",
   "metadata": {},
   "source": [
    "### Primeira Implementação"
   ]
  },
  {
   "cell_type": "code",
   "execution_count": 2,
   "metadata": {},
   "outputs": [],
   "source": [
    "# Implementação da classe Fila\n",
    "class Queue:\n",
    "    # Inicia com uma fila vazia\n",
    "    def __init__(self):\n",
    "        self.itens = []\n",
    "        \n",
    "    # Verifica se fila está vazia\n",
    "    def is_empty(self):\n",
    "        return self.itens == []\n",
    "        \n",
    "    # Adiciona elemento no final da fila (ou seja no início da lista)\n",
    "    def enqueue(self, item):\n",
    "        self.itens.insert(0, item)\n",
    "        print(f'ENQUEUE {item}')\n",
    "        \n",
    "    # Remove elemento do inicio da fila (ou seja no final da lista)\n",
    "    def dequeue(self):\n",
    "        print('DEQUEUE')\n",
    "        return self.itens.pop()\n",
    "        \n",
    "    # Retorna o número de elementos da fila\n",
    "    def size(self):\n",
    "        return len(self.itens)\n",
    "        \n",
    "    # Imprime a fila na tela\n",
    "    def print_queue(self):\n",
    "        print(self.itens)"
   ]
  },
  {
   "cell_type": "code",
   "execution_count": 5,
   "metadata": {},
   "outputs": [],
   "source": [
    "# TESTANDO\n",
    "Q = Queue()\n",
    "L = Queue()"
   ]
  },
  {
   "cell_type": "code",
   "execution_count": 6,
   "metadata": {},
   "outputs": [
    {
     "name": "stdout",
     "output_type": "stream",
     "text": [
      "<__main__.Queue object at 0x000001609F692F90>\n",
      "<__main__.Queue object at 0x000001609FE17750>\n"
     ]
    }
   ],
   "source": [
    "print(Q)\n",
    "print(L)"
   ]
  },
  {
   "cell_type": "code",
   "execution_count": 7,
   "metadata": {},
   "outputs": [
    {
     "name": "stdout",
     "output_type": "stream",
     "text": [
      "[]\n"
     ]
    }
   ],
   "source": [
    "Q.print_queue()"
   ]
  },
  {
   "cell_type": "code",
   "execution_count": 8,
   "metadata": {},
   "outputs": [
    {
     "name": "stdout",
     "output_type": "stream",
     "text": [
      "ENQUEUE 1\n"
     ]
    }
   ],
   "source": [
    "Q.enqueue(1)"
   ]
  },
  {
   "cell_type": "code",
   "execution_count": 9,
   "metadata": {},
   "outputs": [
    {
     "name": "stdout",
     "output_type": "stream",
     "text": [
      "ENQUEUE 2\n"
     ]
    }
   ],
   "source": [
    "Q.enqueue(2)"
   ]
  },
  {
   "cell_type": "code",
   "execution_count": 10,
   "metadata": {},
   "outputs": [
    {
     "name": "stdout",
     "output_type": "stream",
     "text": [
      "ENQUEUE 3\n"
     ]
    }
   ],
   "source": [
    "Q.enqueue(3)"
   ]
  },
  {
   "cell_type": "code",
   "execution_count": 11,
   "metadata": {},
   "outputs": [
    {
     "name": "stdout",
     "output_type": "stream",
     "text": [
      "[3, 2, 1]\n"
     ]
    }
   ],
   "source": [
    "Q.print_queue()"
   ]
  },
  {
   "cell_type": "code",
   "execution_count": 12,
   "metadata": {},
   "outputs": [
    {
     "name": "stdout",
     "output_type": "stream",
     "text": [
      "DEQUEUE\n"
     ]
    },
    {
     "data": {
      "text/plain": [
       "1"
      ]
     },
     "execution_count": 12,
     "metadata": {},
     "output_type": "execute_result"
    }
   ],
   "source": [
    "Q.dequeue()"
   ]
  },
  {
   "cell_type": "code",
   "execution_count": 13,
   "metadata": {},
   "outputs": [
    {
     "name": "stdout",
     "output_type": "stream",
     "text": [
      "DEQUEUE\n"
     ]
    },
    {
     "data": {
      "text/plain": [
       "2"
      ]
     },
     "execution_count": 13,
     "metadata": {},
     "output_type": "execute_result"
    }
   ],
   "source": [
    "Q.dequeue()"
   ]
  },
  {
   "cell_type": "code",
   "execution_count": 14,
   "metadata": {},
   "outputs": [
    {
     "name": "stdout",
     "output_type": "stream",
     "text": [
      "[3]\n"
     ]
    }
   ],
   "source": [
    "Q.print_queue()"
   ]
  },
  {
   "cell_type": "code",
   "execution_count": 15,
   "metadata": {},
   "outputs": [
    {
     "name": "stdout",
     "output_type": "stream",
     "text": [
      "ENQUEUE 7\n"
     ]
    }
   ],
   "source": [
    "Q.enqueue(7)"
   ]
  },
  {
   "cell_type": "code",
   "execution_count": 16,
   "metadata": {},
   "outputs": [
    {
     "name": "stdout",
     "output_type": "stream",
     "text": [
      "ENQUEUE 8\n"
     ]
    }
   ],
   "source": [
    "Q.enqueue(8)"
   ]
  },
  {
   "cell_type": "code",
   "execution_count": 17,
   "metadata": {},
   "outputs": [
    {
     "name": "stdout",
     "output_type": "stream",
     "text": [
      "ENQUEUE 9\n"
     ]
    }
   ],
   "source": [
    "Q.enqueue(9)"
   ]
  },
  {
   "cell_type": "code",
   "execution_count": 18,
   "metadata": {},
   "outputs": [
    {
     "name": "stdout",
     "output_type": "stream",
     "text": [
      "[9, 8, 7, 3]\n"
     ]
    }
   ],
   "source": [
    "Q.print_queue()"
   ]
  },
  {
   "cell_type": "code",
   "execution_count": 19,
   "metadata": {},
   "outputs": [
    {
     "name": "stdout",
     "output_type": "stream",
     "text": [
      "False\n"
     ]
    }
   ],
   "source": [
    "print(Q.is_empty())"
   ]
  },
  {
   "cell_type": "markdown",
   "metadata": {},
   "source": [
    "### Segunda Implementação\n",
    "Listas Circulares"
   ]
  },
  {
   "cell_type": "code",
   "execution_count": 21,
   "metadata": {},
   "outputs": [],
   "source": [
    "import numpy as np\n",
    "\n",
    "class FilaCircular:\n",
    "\n",
    "  # Construtor que inicializa a fila com capacidade pré-definida\n",
    "  def __init__(self, capacidade):\n",
    "    self.capacidade = capacidade    # Define a capacidade da fila\n",
    "    self.inicio = 0                 # Índice do início da fila\n",
    "    self.final = -1                 # Índice do final da fila, inicialmente inválido\n",
    "    self.numero_elementos = 0       # Contador de elementos na fila\n",
    "    self.valores = np.empty(self.capacidade, dtype=int)  # Cria uma array para armazenar os valores, \n",
    "                                                         # inicialmente vazia\n",
    "\n",
    "  # Método privado para verificar se a fila está vazia\n",
    "  def __fila_vazia(self):\n",
    "    return self.numero_elementos == 0  # A fila está vazia se o número de elementos for igual a 0\n",
    "\n",
    "  # Método privado para verificar se a fila está cheia\n",
    "  def __fila_cheia(self):\n",
    "    return self.numero_elementos == self.capacidade  # A fila está cheia quando o número de elementos \n",
    "                                                     # for igual à capacidade\n",
    "\n",
    "  # Método para enfileirar (adicionar) um valor à fila\n",
    "  def enfileirar(self, valor):\n",
    "    if self.__fila_cheia():       # Verifica se a fila está cheia\n",
    "      print('A fila está cheia')  # Se estiver cheia, exibe uma mensagem de aviso e retorna\n",
    "      return\n",
    "\n",
    "    # Verifica se o final da fila está no último índice e \"circula\" para o início\n",
    "    if self.final == self.capacidade - 1:\n",
    "      self.final = -1  # Se o final chegou ao último índice, volta para o início\n",
    "\n",
    "    # Incrementa o índice do final da fila e adiciona o valor na posição correspondente\n",
    "    self.final += 1\n",
    "    self.valores[self.final] = valor  # Adiciona o valor no array\n",
    "    self.numero_elementos += 1  # Incrementa o contador de elementos na fila\n",
    "\n",
    "  # Método para desenfileirar (remover) o primeiro valor da fila\n",
    "  def desenfileirar(self):\n",
    "    if self.__fila_vazia():          # Verifica se a fila está vazia\n",
    "      print('A fila já está vazia')  # Se estiver vazia, exibe uma mensagem de aviso e retorna\n",
    "      return\n",
    "\n",
    "    # Armazena temporariamente o valor a ser removido (no início da fila)\n",
    "    temp = self.valores[self.inicio]\n",
    "\n",
    "    # Incrementa o índice do início da fila\n",
    "    self.inicio += 1\n",
    "\n",
    "    # Se o início da fila passou do último índice, volta para o início (circularidade)\n",
    "    if self.inicio == self.capacidade:\n",
    "      self.inicio = 0\n",
    "\n",
    "    # Decrementa o contador de elementos na fila\n",
    "    self.numero_elementos -= 1\n",
    "\n",
    "    # Retorna o valor removido da fila\n",
    "    return temp\n",
    "\n",
    "  # Método para retornar o valor no início da fila (sem removê-lo)\n",
    "  def primeiro(self):\n",
    "    if self.__fila_vazia():  # Verifica se a fila está vazia\n",
    "      return -1              # Se estiver vazia, retorna -1\n",
    "    return self.valores[self.inicio]  # Retorna o valor no índice de início da fila\n",
    "\n"
   ]
  },
  {
   "cell_type": "code",
   "execution_count": 22,
   "metadata": {},
   "outputs": [],
   "source": [
    "fila = FilaCircular(5)"
   ]
  },
  {
   "cell_type": "code",
   "execution_count": 23,
   "metadata": {},
   "outputs": [
    {
     "data": {
      "text/plain": [
       "-1"
      ]
     },
     "execution_count": 23,
     "metadata": {},
     "output_type": "execute_result"
    }
   ],
   "source": [
    "fila.primeiro()"
   ]
  },
  {
   "cell_type": "code",
   "execution_count": 24,
   "metadata": {},
   "outputs": [
    {
     "data": {
      "text/plain": [
       "1"
      ]
     },
     "execution_count": 24,
     "metadata": {},
     "output_type": "execute_result"
    }
   ],
   "source": [
    "# 1\n",
    "fila.enfileirar(1)\n",
    "fila.primeiro()"
   ]
  },
  {
   "cell_type": "code",
   "execution_count": 25,
   "metadata": {},
   "outputs": [
    {
     "data": {
      "text/plain": [
       "1"
      ]
     },
     "execution_count": 25,
     "metadata": {},
     "output_type": "execute_result"
    }
   ],
   "source": [
    "# 2 1\n",
    "fila.enfileirar(2)\n",
    "fila.primeiro()"
   ]
  },
  {
   "cell_type": "code",
   "execution_count": 26,
   "metadata": {},
   "outputs": [],
   "source": [
    "# 5 4 3 2 1\n",
    "fila.enfileirar(3)\n",
    "fila.enfileirar(4)\n",
    "fila.enfileirar(5)"
   ]
  },
  {
   "cell_type": "code",
   "execution_count": 27,
   "metadata": {},
   "outputs": [
    {
     "name": "stdout",
     "output_type": "stream",
     "text": [
      "A fila está cheia\n"
     ]
    }
   ],
   "source": [
    "fila.enfileirar(6)"
   ]
  },
  {
   "cell_type": "code",
   "execution_count": 28,
   "metadata": {},
   "outputs": [
    {
     "data": {
      "text/plain": [
       "3"
      ]
     },
     "execution_count": 28,
     "metadata": {},
     "output_type": "execute_result"
    }
   ],
   "source": [
    "# 5 4 3\n",
    "fila.desenfileirar()\n",
    "fila.desenfileirar()\n",
    "fila.primeiro()"
   ]
  },
  {
   "cell_type": "code",
   "execution_count": 29,
   "metadata": {},
   "outputs": [],
   "source": [
    "# 7 6 5 4 3\n",
    "fila.enfileirar(6)\n",
    "fila.enfileirar(7)"
   ]
  },
  {
   "cell_type": "code",
   "execution_count": 30,
   "metadata": {},
   "outputs": [
    {
     "data": {
      "text/plain": [
       "3"
      ]
     },
     "execution_count": 30,
     "metadata": {},
     "output_type": "execute_result"
    }
   ],
   "source": [
    "fila.primeiro()"
   ]
  },
  {
   "cell_type": "code",
   "execution_count": 31,
   "metadata": {},
   "outputs": [
    {
     "data": {
      "text/plain": [
       "array([6, 7, 3, 4, 5])"
      ]
     },
     "execution_count": 31,
     "metadata": {},
     "output_type": "execute_result"
    }
   ],
   "source": [
    "fila.valores"
   ]
  },
  {
   "cell_type": "code",
   "execution_count": 32,
   "metadata": {},
   "outputs": [
    {
     "data": {
      "text/plain": [
       "(2, 1)"
      ]
     },
     "execution_count": 32,
     "metadata": {},
     "output_type": "execute_result"
    }
   ],
   "source": [
    "fila.inicio, fila.final"
   ]
  },
  {
   "cell_type": "code",
   "execution_count": 33,
   "metadata": {},
   "outputs": [
    {
     "data": {
      "text/plain": [
       "7"
      ]
     },
     "execution_count": 33,
     "metadata": {},
     "output_type": "execute_result"
    }
   ],
   "source": [
    "fila.valores[fila.final]"
   ]
  },
  {
   "cell_type": "code",
   "execution_count": 34,
   "metadata": {},
   "outputs": [
    {
     "data": {
      "text/plain": [
       "3"
      ]
     },
     "execution_count": 34,
     "metadata": {},
     "output_type": "execute_result"
    }
   ],
   "source": [
    "fila.valores[fila.inicio]"
   ]
  },
  {
   "cell_type": "markdown",
   "metadata": {},
   "source": [
    "### Terceira Implementação\n",
    "**Listas com Prioridade (Priority Queue)**"
   ]
  },
  {
   "cell_type": "markdown",
   "metadata": {},
   "source": [
    "Uma fila de prioridades é uma extensão da fila tradicional em que, para cada elemento inserido, uma prioridade p deve ser associada. \n",
    "\n",
    "Por convenção, inteiros positivos são utilizados para representar a prioridade, sendo que quanto menor o inteiro, maior a prioridade (ou seja, p = 2 tem\n",
    "prioridade sobre p = 5). \n",
    "\n",
    "A principal diferença em relação a fila tradicional é o método enqueue(), que todo elemento deve ser inserido no final da fila, mas a remoção não é feita no início da fila e sim descobrindo o elemento que possui a maior prioridade. Quanto maior a prioridade, menor o inteiro que a codifica.\n",
    "\n",
    "A primeira coisa que devemos fazer é criar uma classe para definir a estrutura interna de um elemento da fila de prioridades. Isso é necessário pois além de armazenar a informação referente ao elemento em si (um número, uma string, etc), precisamos de uma variável para armazenar o prioridade. \n",
    "\n",
    "Vamos implementá-la!!"
   ]
  },
  {
   "cell_type": "code",
   "execution_count": 40,
   "metadata": {
    "id": "7R1oTn1dqV1l"
   },
   "outputs": [],
   "source": [
    "# Classe auxiliar que representa um elemento da fila com valor e prioridade\n",
    "class Element:\n",
    "    def __init__(self, valor, prioridade):\n",
    "        self.item = valor  # O valor do item\n",
    "        self.prioridade = prioridade  # A prioridade associada a este item\n",
    "    \n",
    "    # Método para representar o objeto como string\n",
    "    def __str__(self):\n",
    "        return str(self.item) + ' ' + str(self.prioridade)  # Exibe o item e sua prioridade\n"
   ]
  },
  {
   "cell_type": "code",
   "execution_count": 41,
   "metadata": {
    "id": "uTsNap9FqYXN"
   },
   "outputs": [],
   "source": [
    "# Implementação da classe Fila de Prioridade\n",
    "class PriorityQueue:\n",
    "    # Construtor: Inicia a fila como uma lista vazia\n",
    "    def __init__(self):\n",
    "        self.itens = []  # Armazena os itens da fila (do tipo Element)\n",
    "        \n",
    "    # Método para verificar se a fila está vazia\n",
    "    def is_empty(self):\n",
    "        return self.itens == []  # Retorna True se a fila estiver vazia, caso contrário, False\n",
    "        \n",
    "    # Método que retorna o número de elementos da fila\n",
    "    def size(self):\n",
    "        return len(self.itens)  # Retorna o comprimento da lista de itens\n",
    "        \n",
    "    # Método para adicionar (enfileirar) um elemento com uma prioridade\n",
    "    def enqueue(self, item, prioridade):\n",
    "        elemento = Element(item, prioridade)  # Cria um novo elemento com o valor e prioridade\n",
    "        self.itens.insert(0, elemento)        # Insere o elemento no início da lista (posição 0)\n",
    "        print(f'ENQUEUE {elemento}')          # Exibe o valor enfileirado\n",
    "        \n",
    "    # Método para remover (desenfileirar) o elemento de maior prioridade\n",
    "    def dequeue(self):\n",
    "        if self.is_empty():  # Verifica se a fila está vazia\n",
    "            print('Fila está Vazia')  # Se vazia, exibe uma mensagem e retorna\n",
    "        else:\n",
    "            print('DEQUEUE')  # Exibe uma mensagem indicando a operação de remoção\n",
    "            posicao = 0  # Inicializa a posição do elemento de maior prioridade\n",
    "            menor = self.itens[posicao].prioridade  # Inicializa com a prioridade do primeiro elemento\n",
    "    \n",
    "            # Encontra o elemento com a menor prioridade (maior prioridade de atendimento)\n",
    "            for i in range(self.size()):\n",
    "                if self.itens[i].prioridade < menor:  # Quanto menor o número, maior a prioridade\n",
    "                    posicao = i  # Atualiza a posição do elemento de maior prioridade\n",
    "                    menor = self.itens[i].prioridade  # Atualiza a prioridade mais baixa encontrada\n",
    "                    \n",
    "            # Remove o elemento de maior prioridade da fila\n",
    "            removido = self.itens.pop(posicao)  # Remove o elemento encontrado\n",
    "            return removido.item  # Retorna o valor do item removido\n",
    "            \n",
    "    # Método para imprimir a fila (exibindo apenas os valores dos itens)\n",
    "    def print_queue(self):\n",
    "        L = []\n",
    "        for x in self.itens:  # Itera sobre todos os elementos da fila\n",
    "            L.append(x.item)  # Adiciona o valor do item à lista temporária\n",
    "        print(L)  # Exibe a lista de itens\n"
   ]
  },
  {
   "cell_type": "code",
   "execution_count": 42,
   "metadata": {},
   "outputs": [],
   "source": [
    "#TESTANDO\n",
    "PQ = PriorityQueue()"
   ]
  },
  {
   "cell_type": "code",
   "execution_count": 43,
   "metadata": {},
   "outputs": [
    {
     "name": "stdout",
     "output_type": "stream",
     "text": [
      "[]\n"
     ]
    }
   ],
   "source": [
    "PQ.print_queue()"
   ]
  },
  {
   "cell_type": "code",
   "execution_count": 44,
   "metadata": {},
   "outputs": [
    {
     "name": "stdout",
     "output_type": "stream",
     "text": [
      "ENQUEUE a 4\n"
     ]
    }
   ],
   "source": [
    "PQ.enqueue('a', 4)"
   ]
  },
  {
   "cell_type": "code",
   "execution_count": 45,
   "metadata": {},
   "outputs": [
    {
     "name": "stdout",
     "output_type": "stream",
     "text": [
      "ENQUEUE b 2\n"
     ]
    }
   ],
   "source": [
    "PQ.enqueue('b', 2)"
   ]
  },
  {
   "cell_type": "code",
   "execution_count": 46,
   "metadata": {},
   "outputs": [
    {
     "name": "stdout",
     "output_type": "stream",
     "text": [
      "ENQUEUE c 3\n"
     ]
    }
   ],
   "source": [
    "PQ.enqueue('c', 3)"
   ]
  },
  {
   "cell_type": "code",
   "execution_count": 47,
   "metadata": {},
   "outputs": [
    {
     "name": "stdout",
     "output_type": "stream",
     "text": [
      "['c', 'b', 'a']\n"
     ]
    }
   ],
   "source": [
    "PQ.print_queue()"
   ]
  },
  {
   "cell_type": "code",
   "execution_count": 48,
   "metadata": {},
   "outputs": [
    {
     "name": "stdout",
     "output_type": "stream",
     "text": [
      "DEQUEUE\n"
     ]
    },
    {
     "data": {
      "text/plain": [
       "'b'"
      ]
     },
     "execution_count": 48,
     "metadata": {},
     "output_type": "execute_result"
    }
   ],
   "source": [
    "PQ.dequeue()"
   ]
  },
  {
   "cell_type": "code",
   "execution_count": 49,
   "metadata": {},
   "outputs": [
    {
     "name": "stdout",
     "output_type": "stream",
     "text": [
      "['c', 'a']\n"
     ]
    }
   ],
   "source": [
    "PQ.print_queue()"
   ]
  },
  {
   "cell_type": "markdown",
   "metadata": {},
   "source": [
    "# Vamos à Prática!\n",
    "## Exercício 1 - Jogo: Batata Quente"
   ]
  },
  {
   "attachments": {},
   "cell_type": "markdown",
   "metadata": {},
   "source": [
    "Neste jogo, as crianças formam um círculo e passam um item qualquer (batata) cada um para o seu vizinho da frente o mais rápido possível. \n",
    "Em um certo momento do jogo, essa ação é interrompida (queimou) e a criança que estiver com o item (batata) na mão é excluída da roda. \n",
    "O jogo então prossegue até que reste apenas uma única criança, que é a vencedora.\n",
    "Para simular um círculo (roda), utilizaremos uma fila da seguinte maneira: a criança que está com a batata na mão será sempre a quela que estiver no início da fila. Após passar a batata, a simulação deve instantaneamente remover e inserir a criança, colocando-a novamente no final da fila. Ela então vai esperar até que todas as outras assumam o início da fila, antes de assumir essa posição novamente. \n",
    "Após um número pré estabelecido MAX de operações enqueue/dequeue, a criança que ocupar o início da fila será removida e outro ciclo da brincadeira é realizado. \n",
    "O processo continua até que a fila tenha possua tamanhoum. \n"
   ]
  },
  {
   "cell_type": "markdown",
   "metadata": {},
   "source": [
    "**Utilização do classe Stack..**"
   ]
  },
  {
   "cell_type": "code",
   "execution_count": null,
   "metadata": {},
   "outputs": [],
   "source": [
    "# Utilização da classe QUEUE.\n",
    "# Simula o jogo batata_quente\n",
    "def batata_quente(nomes, MAX):\n",
    "    # Cria fila para simular roda\n",
    "    fila = Queue()\n",
    "\n",
    "    # Coloca os N nomes em cada posição\n",
    "    for nome in nomes:\n",
    "        fila.enqueue(nome)\n",
    "        \n",
    "    # Inicia a lógica do jogo\n",
    "    while fila.size() > 1:\n",
    "        # Para simular MAX passagens da batata\n",
    "        for i in range(MAX):\n",
    "            # Remove o primeiro e coloca no final\n",
    "            fila.enqueue(fila.dequeue())\n",
    "    \n",
    "           # Quem parar no ínicio da fila, está com batata\n",
    "           # Deve ser eliminado da fila\n",
    "        fila.dequeue()\n",
    "    \n",
    "    # Após N-1 rodadas, retorna a fila com o vencedor\n",
    "    vencedor = fila.dequeue()\n",
    "    return vencedor"
   ]
  },
  {
   "attachments": {},
   "cell_type": "markdown",
   "metadata": {},
   "source": [
    "### Testando!\n",
    "['Alex','Julia','Carlos','Maria','Ana','Caio']"
   ]
  },
  {
   "cell_type": "code",
   "execution_count": null,
   "metadata": {},
   "outputs": [],
   "source": [
    "# TESTANDO\n",
    "v = batata_quente(['Alex','Julia','Carlos','Maria','Ana','Caio'], 7) \n",
    "print(f\"O vencedor é {v}\") "
   ]
  },
  {
   "cell_type": "markdown",
   "metadata": {},
   "source": [
    "## Exercício 2 - Atendimento em um Banco\n",
    "\n",
    "Simule uma fila de atendimento em um banco, onde as pessoas são chamadas na ordem em que chegaram. O próximo cliente da fila é atendido e removido da fila. A cada três atendimentos, o atendente faz uma pausa, e novos clientes podem ser adicionados à fila durante esse período.\n",
    "Requisitos:\n",
    "- Criar a fila com os nomes de clientes.\n",
    "- Processar três atendimentos e depois fazer uma pausa.\n",
    "- Durante a pausa, adicionar dois novos clientes à fila.\n",
    "- Continuar até que todos os clientes tenham sido atendidos.\n"
   ]
  },
  {
   "cell_type": "code",
   "execution_count": null,
   "metadata": {},
   "outputs": [],
   "source": []
  },
  {
   "cell_type": "code",
   "execution_count": null,
   "metadata": {},
   "outputs": [],
   "source": []
  },
  {
   "cell_type": "markdown",
   "metadata": {},
   "source": [
    "## Exercício 3 - Controle de Pedido em um Restaurante\n",
    "\n",
    "Implemente um sistema de controle de pedidos em um restaurante. Os pedidos são colocados em uma fila conforme são recebidos. A cada certo número de minutos, o sistema processa um pedido (remove o primeiro pedido da fila) e adiciona um novo pedido. Continue o processo até que uma condição de parada (número total de pedidos processados) seja atingida.\n",
    "Requisitos:\n",
    "- Colocar pedidos na fila.\n",
    "- Processar um pedido a cada intervalo e adicionar um novo pedido.\n",
    "- Parar o processo após processar um número determinado de pedidos.\n"
   ]
  },
  {
   "cell_type": "code",
   "execution_count": null,
   "metadata": {},
   "outputs": [],
   "source": []
  },
  {
   "cell_type": "code",
   "execution_count": null,
   "metadata": {},
   "outputs": [],
   "source": []
  },
  {
   "cell_type": "markdown",
   "metadata": {},
   "source": [
    "### Fim Teoria Aula 7"
   ]
  }
 ],
 "metadata": {
  "colab": {
   "provenance": []
  },
  "kernelspec": {
   "display_name": "Python 3 (ipykernel)",
   "language": "python",
   "name": "python3"
  },
  "language_info": {
   "codemirror_mode": {
    "name": "ipython",
    "version": 3
   },
   "file_extension": ".py",
   "mimetype": "text/x-python",
   "name": "python",
   "nbconvert_exporter": "python",
   "pygments_lexer": "ipython3",
   "version": "3.11.9"
  }
 },
 "nbformat": 4,
 "nbformat_minor": 4
}
